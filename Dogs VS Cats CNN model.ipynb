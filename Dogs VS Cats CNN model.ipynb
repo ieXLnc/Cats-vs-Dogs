{
 "cells": [
  {
   "cell_type": "code",
   "execution_count": 1,
   "id": "cd91eb23-9893-42dc-9779-3b165995a664",
   "metadata": {},
   "outputs": [],
   "source": [
    "import os\n",
    "import shutil\n",
    "import numpy as np\n",
    "import pandas as pd\n",
    "import seaborn as sns\n",
    "import matplotlib.pyplot as plt\n",
    "import tensorflow as tf\n",
    "from tensorflow.keras.applications import MobileNetV2 \n",
    "import keras\n",
    "from keras.layers import Dense\n",
    "from keras.preprocessing.image import ImageDataGenerator\n",
    "from keras.callbacks import ModelCheckpoint, EarlyStopping"
   ]
  },
  {
   "cell_type": "code",
   "execution_count": 2,
   "id": "b71c308b-c98f-4ae7-a453-c0fd79d59690",
   "metadata": {},
   "outputs": [],
   "source": [
    "# separate data into cat/dog files\n",
    "# path = 'data/train/train/'\n",
    "\n",
    "# if not os.path.exists('data/train/cat'):\n",
    "#     os.mkdir('data/train/cat')\n",
    "# if not os.path.exists('data/train/dog'):\n",
    "#     os.mkdir('data/train/dog')\n",
    "\n",
    "# for file in os.listdir(path):\n",
    "#     if 'cat' in file:\n",
    "#         shutil.copyfile(path + file, 'data/train/cat/' + file)\n",
    "#     if 'dog' in file:\n",
    "#         shutil.copyfile(path + file, 'data/train/dog/' + file)"
   ]
  },
  {
   "cell_type": "code",
   "execution_count": 3,
   "id": "1ac9a3f3-60f1-46d4-8114-e03f48296ecb",
   "metadata": {},
   "outputs": [],
   "source": [
    "# create validation\n",
    "# if not os.path.exists('data/valid'):\n",
    "#     os.mkdir('data/valid')\n",
    "# if not os.path.exists('data/valid/cat'):\n",
    "#     os.mkdir('data/valid/cat')\n",
    "# if not os.path.exists('data/valid/dog'):\n",
    "#     os.mkdir('data/valid/dog')\n",
    "\n",
    "# for file in os.listdir('data/train/cat')[:1875]:\n",
    "#     shutil.copyfile('data/train/cat/' + file, 'data/valid/cat/' + file)\n",
    "# for file in os.listdir('data/train/dog')[:1875]:\n",
    "#     shutil.copyfile('data/train/dog/' + file, 'data/valid/dog/' + file)"
   ]
  },
  {
   "cell_type": "code",
   "execution_count": 4,
   "id": "7ffb75e0-c3a4-4cc9-a7b3-3e5b431e7d4f",
   "metadata": {},
   "outputs": [],
   "source": [
    "# create test \n",
    "# if not os.path.exists('data/test'):\n",
    "#     os.mkdir('data/test')\n",
    "# if not os.path.exists('data/test/cat'):\n",
    "#     os.mkdir('data/test/cat')\n",
    "# if not os.path.exists('data/test/dog'):\n",
    "#     os.mkdir('data/test/dog')\n",
    "\n",
    "# for file in os.listdir('data/train/cat')[1875:3125]:\n",
    "#     shutil.copyfile('data/train/cat/' + file, 'data/test/cat/' + file)\n",
    "# for file in os.listdir('data/train/dog')[1875:3125]:\n",
    "#     shutil.copyfile('data/train/dog/' + file, 'data/test/dog/' + file)"
   ]
  },
  {
   "cell_type": "code",
   "execution_count": 5,
   "id": "9f1a5761-d0ce-4dca-9207-732c8946b899",
   "metadata": {},
   "outputs": [],
   "source": [
    "# delete training data that were putted in valid and test \n",
    "\n",
    "# for file in os.listdir('data/train/cat')[:3125]:\n",
    "#     os.remove('data/train/cat/' + file)\n",
    "# for file in os.listdir('data/train/dog')[:3125]:\n",
    "#     os.remove('data/train/dog/' + file)"
   ]
  },
  {
   "cell_type": "code",
   "execution_count": 6,
   "id": "90d56c1d-e3ed-4725-897e-b690a631e25b",
   "metadata": {},
   "outputs": [
    {
     "name": "stdout",
     "output_type": "stream",
     "text": [
      "Found 18750 images belonging to 2 classes.\n",
      "Found 3750 images belonging to 2 classes.\n",
      "Found 2500 images belonging to 2 classes.\n"
     ]
    }
   ],
   "source": [
    "# create image generator\n",
    "batch_size = 32\n",
    "size_img = 224\n",
    "\n",
    "# this is the augmentation configuration we will use for training\n",
    "train_datagen = ImageDataGenerator(rescale=1./255,\n",
    "                                   shear_range=0.2,\n",
    "                                   zoom_range=0.2,\n",
    "                                   horizontal_flip=True)\n",
    "\n",
    "validation_datagen = ImageDataGenerator(rescale=1./255,\n",
    "                                   shear_range=0.2,\n",
    "                                   zoom_range=0.2,\n",
    "                                   horizontal_flip=True)\n",
    "\n",
    "test_generator = ImageDataGenerator(rescale=1/255)\n",
    "\n",
    "\n",
    "\n",
    "# Train, validation and test sets\n",
    "trainset = train_datagen.flow_from_directory(os.path.join('data','train'),\n",
    "                                             batch_size=batch_size, \n",
    "                                             target_size=(size_img, size_img),\n",
    "                                             shuffle=True)\n",
    "\n",
    "validset = validation_datagen.flow_from_directory(os.path.join('data','valid'),\n",
    "                                             batch_size=batch_size, \n",
    "                                             target_size=(size_img, size_img),\n",
    "                                             shuffle=False)\n",
    "\n",
    "testset = test_generator.flow_from_directory(os.path.join('data','test'),\n",
    "                                             batch_size=batch_size, \n",
    "                                             target_size=(size_img, size_img),\n",
    "                                             shuffle=False)"
   ]
  },
  {
   "cell_type": "code",
   "execution_count": 7,
   "id": "4b2c544e-3cd8-471b-b380-b38de78eb8e6",
   "metadata": {},
   "outputs": [
    {
     "name": "stdout",
     "output_type": "stream",
     "text": [
      "Model: \"sequential\"\n",
      "_________________________________________________________________\n",
      " Layer (type)                Output Shape              Param #   \n",
      "=================================================================\n",
      " mobilenetv2_1.00_224 (Funct  (None, 7, 7, 1280)       2257984   \n",
      " ional)                                                          \n",
      "                                                                 \n",
      " global_average_pooling2d (G  (None, 1280)             0         \n",
      " lobalAveragePooling2D)                                          \n",
      "                                                                 \n",
      " flatten (Flatten)           (None, 1280)              0         \n",
      "                                                                 \n",
      " dense (Dense)               (None, 64)                81984     \n",
      "                                                                 \n",
      " dense_1 (Dense)             (None, 2)                 130       \n",
      "                                                                 \n",
      "=================================================================\n",
      "Total params: 2,340,098\n",
      "Trainable params: 82,114\n",
      "Non-trainable params: 2,257,984\n",
      "_________________________________________________________________\n"
     ]
    }
   ],
   "source": [
    "# Lets use the MobileNetV2 pre trained and set his layers as non trainable\n",
    "\n",
    "mobilenet_model = MobileNetV2(input_shape=(224, 224, 3), include_top=False)\n",
    "mobilenet_model.trainable=False\n",
    "\n",
    "# add layers to our mobilenet to train on our current dataset\n",
    "\n",
    "model = tf.keras.Sequential(\n",
    "    [\n",
    "    mobilenet_model,\n",
    "    keras.layers.GlobalAveragePooling2D(),\n",
    "    keras.layers.Flatten(),\n",
    "    \n",
    "    keras.layers.Dense(64, activation=\"relu\"),\n",
    "    keras.layers.Dense(2, activation=\"softmax\")\n",
    "]\n",
    ")\n",
    "\n",
    "model.summary()"
   ]
  },
  {
   "cell_type": "code",
   "execution_count": 8,
   "id": "9035d444-c8b0-42b0-afb0-70d84f6dbaae",
   "metadata": {},
   "outputs": [],
   "source": [
    "# Compile our model \n",
    "if not os.path.exists('model'):\n",
    "    os.mkdir('model')\n",
    "\n",
    "model.compile(optimizer=tf.keras.optimizers.Adam(),\n",
    "              loss='categorical_crossentropy',\n",
    "              metrics=[\"accuracy\"])\n",
    "\n",
    "# set epoch and model monitor\n",
    "epochs = 15\n",
    "early_stopping = ModelCheckpoint(filepath='model/catvsdog_1.h5', monitor='val_accuracy', verbose=1, save_best_only=True)"
   ]
  },
  {
   "cell_type": "code",
   "execution_count": 9,
   "id": "d2321637-90bc-4c3d-8462-5197a7088f82",
   "metadata": {},
   "outputs": [
    {
     "name": "stdout",
     "output_type": "stream",
     "text": [
      "Epoch 1/15\n",
      "586/586 [==============================] - ETA: 0s - loss: 0.0803 - accuracy: 0.9699\n",
      "Epoch 1: val_accuracy improved from -inf to 0.97413, saving model to model\\catvsdog_1.h5\n",
      "586/586 [==============================] - 583s 988ms/step - loss: 0.0803 - accuracy: 0.9699 - val_loss: 0.0664 - val_accuracy: 0.9741\n",
      "Epoch 2/15\n",
      "586/586 [==============================] - ETA: 0s - loss: 0.0520 - accuracy: 0.9801\n",
      "Epoch 2: val_accuracy improved from 0.97413 to 0.98000, saving model to model\\catvsdog_1.h5\n",
      "586/586 [==============================] - 755s 1s/step - loss: 0.0520 - accuracy: 0.9801 - val_loss: 0.0568 - val_accuracy: 0.9800\n",
      "Epoch 3/15\n",
      "586/586 [==============================] - ETA: 0s - loss: 0.0472 - accuracy: 0.9826\n",
      "Epoch 3: val_accuracy did not improve from 0.98000\n",
      "586/586 [==============================] - 809s 1s/step - loss: 0.0472 - accuracy: 0.9826 - val_loss: 0.0569 - val_accuracy: 0.9795\n",
      "Epoch 4/15\n",
      "586/586 [==============================] - ETA: 0s - loss: 0.0429 - accuracy: 0.9827\n",
      "Epoch 4: val_accuracy did not improve from 0.98000\n",
      "586/586 [==============================] - 789s 1s/step - loss: 0.0429 - accuracy: 0.9827 - val_loss: 0.0578 - val_accuracy: 0.9784\n",
      "Epoch 5/15\n",
      "586/586 [==============================] - ETA: 0s - loss: 0.0390 - accuracy: 0.9842\n",
      "Epoch 5: val_accuracy improved from 0.98000 to 0.98187, saving model to model\\catvsdog_1.h5\n",
      "586/586 [==============================] - 850s 1s/step - loss: 0.0390 - accuracy: 0.9842 - val_loss: 0.0523 - val_accuracy: 0.9819\n",
      "Epoch 6/15\n",
      "586/586 [==============================] - ETA: 0s - loss: 0.0369 - accuracy: 0.9852\n",
      "Epoch 6: val_accuracy did not improve from 0.98187\n",
      "586/586 [==============================] - 811s 1s/step - loss: 0.0369 - accuracy: 0.9852 - val_loss: 0.0517 - val_accuracy: 0.9787\n",
      "Epoch 7/15\n",
      "586/586 [==============================] - ETA: 0s - loss: 0.0325 - accuracy: 0.9869\n",
      "Epoch 7: val_accuracy did not improve from 0.98187\n",
      "586/586 [==============================] - 801s 1s/step - loss: 0.0325 - accuracy: 0.9869 - val_loss: 0.0522 - val_accuracy: 0.9805\n",
      "Epoch 8/15\n",
      "586/586 [==============================] - ETA: 0s - loss: 0.0304 - accuracy: 0.9878\n",
      "Epoch 8: val_accuracy did not improve from 0.98187\n",
      "586/586 [==============================] - 929s 2s/step - loss: 0.0304 - accuracy: 0.9878 - val_loss: 0.0626 - val_accuracy: 0.9781\n",
      "Epoch 9/15\n",
      "586/586 [==============================] - ETA: 0s - loss: 0.0297 - accuracy: 0.9887\n",
      "Epoch 9: val_accuracy did not improve from 0.98187\n",
      "586/586 [==============================] - 947s 2s/step - loss: 0.0297 - accuracy: 0.9887 - val_loss: 0.0684 - val_accuracy: 0.9776\n",
      "Epoch 10/15\n",
      "586/586 [==============================] - ETA: 0s - loss: 0.0287 - accuracy: 0.9892\n",
      "Epoch 10: val_accuracy did not improve from 0.98187\n",
      "586/586 [==============================] - 907s 2s/step - loss: 0.0287 - accuracy: 0.9892 - val_loss: 0.0613 - val_accuracy: 0.9784\n",
      "Epoch 11/15\n",
      "586/586 [==============================] - ETA: 0s - loss: 0.0234 - accuracy: 0.9901\n",
      "Epoch 11: val_accuracy did not improve from 0.98187\n",
      "586/586 [==============================] - 828s 1s/step - loss: 0.0234 - accuracy: 0.9901 - val_loss: 0.0587 - val_accuracy: 0.9811\n",
      "Epoch 12/15\n",
      "586/586 [==============================] - ETA: 0s - loss: 0.0206 - accuracy: 0.9925\n",
      "Epoch 12: val_accuracy did not improve from 0.98187\n",
      "586/586 [==============================] - 624s 1s/step - loss: 0.0206 - accuracy: 0.9925 - val_loss: 0.0633 - val_accuracy: 0.9789\n",
      "Epoch 13/15\n",
      "586/586 [==============================] - ETA: 0s - loss: 0.0233 - accuracy: 0.9914\n",
      "Epoch 13: val_accuracy did not improve from 0.98187\n",
      "586/586 [==============================] - 649s 1s/step - loss: 0.0233 - accuracy: 0.9914 - val_loss: 0.0802 - val_accuracy: 0.9741\n",
      "Epoch 14/15\n",
      "586/586 [==============================] - ETA: 0s - loss: 0.0203 - accuracy: 0.9924\n",
      "Epoch 14: val_accuracy did not improve from 0.98187\n",
      "586/586 [==============================] - 694s 1s/step - loss: 0.0203 - accuracy: 0.9924 - val_loss: 0.0626 - val_accuracy: 0.9776\n",
      "Epoch 15/15\n",
      "586/586 [==============================] - ETA: 0s - loss: 0.0211 - accuracy: 0.9915\n",
      "Epoch 15: val_accuracy did not improve from 0.98187\n",
      "586/586 [==============================] - 852s 1s/step - loss: 0.0211 - accuracy: 0.9915 - val_loss: 0.0575 - val_accuracy: 0.9797\n"
     ]
    }
   ],
   "source": [
    "hist = model.fit(trainset, epochs=epochs, validation_data=validset, callbacks=early_stopping)"
   ]
  },
  {
   "cell_type": "code",
   "execution_count": 21,
   "id": "e25ea472-46e1-4cae-a825-84f4fffff2e5",
   "metadata": {},
   "outputs": [
    {
     "data": {
      "text/plain": [
       "1250"
      ]
     },
     "execution_count": 21,
     "metadata": {},
     "output_type": "execute_result"
    }
   ],
   "source": [
    "# lets look at the score for our test set \n",
    "\n",
    "# first get the names to have our targets:\n",
    "test_target=testset.filenames\n",
    "targets = []\n",
    "for t in test_target:\n",
    "    if 'cat' in t:\n",
    "        targets.append(0)\n",
    "    else:\n",
    "        targets.append(1)\n",
    "\n",
    "targets.count(0)"
   ]
  },
  {
   "cell_type": "code",
   "execution_count": 22,
   "id": "219c8ac3-6f83-4118-aa88-070ddfdb1266",
   "metadata": {},
   "outputs": [],
   "source": [
    "predictions = model.predict(testset)"
   ]
  },
  {
   "cell_type": "code",
   "execution_count": 27,
   "id": "26990eb5-b8d2-44cb-9b42-bf76d3966188",
   "metadata": {},
   "outputs": [],
   "source": [
    "labels = []\n",
    "for p in predictions:\n",
    "    if p[0] > p[1]:\n",
    "        labels.append(0)\n",
    "    else:\n",
    "        labels.append(1)"
   ]
  },
  {
   "cell_type": "code",
   "execution_count": 41,
   "id": "db3534a4-a07f-4ffb-be57-3cdfb785192b",
   "metadata": {},
   "outputs": [
    {
     "data": {
      "text/html": [
       "<div>\n",
       "<style scoped>\n",
       "    .dataframe tbody tr th:only-of-type {\n",
       "        vertical-align: middle;\n",
       "    }\n",
       "\n",
       "    .dataframe tbody tr th {\n",
       "        vertical-align: top;\n",
       "    }\n",
       "\n",
       "    .dataframe thead th {\n",
       "        text-align: right;\n",
       "    }\n",
       "</style>\n",
       "<table border=\"1\" class=\"dataframe\">\n",
       "  <thead>\n",
       "    <tr style=\"text-align: right;\">\n",
       "      <th></th>\n",
       "      <th>filenames</th>\n",
       "      <th>targets</th>\n",
       "      <th>predictions</th>\n",
       "    </tr>\n",
       "  </thead>\n",
       "  <tbody>\n",
       "    <tr>\n",
       "      <th>0</th>\n",
       "      <td>cat\\cat.11685.jpg</td>\n",
       "      <td>0</td>\n",
       "      <td>0</td>\n",
       "    </tr>\n",
       "    <tr>\n",
       "      <th>1</th>\n",
       "      <td>cat\\cat.11686.jpg</td>\n",
       "      <td>0</td>\n",
       "      <td>0</td>\n",
       "    </tr>\n",
       "    <tr>\n",
       "      <th>2</th>\n",
       "      <td>cat\\cat.11687.jpg</td>\n",
       "      <td>0</td>\n",
       "      <td>0</td>\n",
       "    </tr>\n",
       "    <tr>\n",
       "      <th>3</th>\n",
       "      <td>cat\\cat.11688.jpg</td>\n",
       "      <td>0</td>\n",
       "      <td>0</td>\n",
       "    </tr>\n",
       "    <tr>\n",
       "      <th>4</th>\n",
       "      <td>cat\\cat.11689.jpg</td>\n",
       "      <td>0</td>\n",
       "      <td>0</td>\n",
       "    </tr>\n",
       "  </tbody>\n",
       "</table>\n",
       "</div>"
      ],
      "text/plain": [
       "           filenames  targets  predictions\n",
       "0  cat\\cat.11685.jpg        0            0\n",
       "1  cat\\cat.11686.jpg        0            0\n",
       "2  cat\\cat.11687.jpg        0            0\n",
       "3  cat\\cat.11688.jpg        0            0\n",
       "4  cat\\cat.11689.jpg        0            0"
      ]
     },
     "execution_count": 41,
     "metadata": {},
     "output_type": "execute_result"
    }
   ],
   "source": [
    "df = pd.DataFrame()\n",
    "df['filenames'] = test_target\n",
    "df['targets'] = targets\n",
    "df['predictions'] = labels\n",
    "\n",
    "df.head()"
   ]
  },
  {
   "cell_type": "code",
   "execution_count": 43,
   "id": "beb17601-6411-45cc-aa87-4c4d9e5327d8",
   "metadata": {},
   "outputs": [
    {
     "name": "stdout",
     "output_type": "stream",
     "text": [
      "our model give us a score of 98.187% on the validationset and 98.4 % on the test set\n"
     ]
    }
   ],
   "source": [
    "# compare the targets and predictions\n",
    "error_percentage = (np.abs(df.targets - df.predictions)).sum()/2500*100\n",
    "\n",
    "print(f\"our model give us a score of 98.187% on the validationset and {100-error_percentage} % on the test set\")"
   ]
  },
  {
   "cell_type": "code",
   "execution_count": null,
   "id": "12018a0f-3e4b-487c-acf8-bfa8ddf0aa90",
   "metadata": {},
   "outputs": [],
   "source": []
  }
 ],
 "metadata": {
  "kernelspec": {
   "display_name": "Python 3 (ipykernel)",
   "language": "python",
   "name": "python3"
  },
  "language_info": {
   "codemirror_mode": {
    "name": "ipython",
    "version": 3
   },
   "file_extension": ".py",
   "mimetype": "text/x-python",
   "name": "python",
   "nbconvert_exporter": "python",
   "pygments_lexer": "ipython3",
   "version": "3.8.13"
  }
 },
 "nbformat": 4,
 "nbformat_minor": 5
}
